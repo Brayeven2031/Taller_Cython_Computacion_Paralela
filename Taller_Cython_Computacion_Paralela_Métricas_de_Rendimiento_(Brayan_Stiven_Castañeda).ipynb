{
  "nbformat": 4,
  "nbformat_minor": 0,
  "metadata": {
    "colab": {
      "provenance": [],
      "collapsed_sections": [
        "eJamhCoqtFc4",
        "s6ite3ATtMuW"
      ]
    },
    "kernelspec": {
      "name": "python3",
      "display_name": "Python 3"
    },
    "language_info": {
      "name": "python"
    }
  },
  "cells": [
    {
      "cell_type": "markdown",
      "source": [
        "<div><br><br><FONT FACE=\"times new roman\" SIZE=5>\n",
        "<b>Cython</b>\n",
        "<br>\n",
        "<i><b>Autor:</b></i> Brayan Stiven Castañeda Cruz\n",
        "<br>\n",
        "<i><b>Asignatura:</b></i> Programación paralela y distribuida\n",
        "<br>\n",
        "<i><b>Docente:</b></i> John Jairo Corredor\n",
        "<br>\n",
        "<i><b>Fecha: </b>01/11/2022\n",
        "<br>\n",
        "<b>Ciencias de la computación e inteligencia artificial</b></i>\n",
        "<br>\n",
        "</FONT>\n",
        "</div>"
      ],
      "metadata": {
        "id": "9YSRKzZMwJtu"
      }
    },
    {
      "cell_type": "code",
      "execution_count": null,
      "metadata": {
        "id": "ZCM_5Fuypr5h"
      },
      "outputs": [],
      "source": [
        "import numpy as np\n",
        "import pandas as pd\n",
        "import matplotlib.pyplot as plt"
      ]
    },
    {
      "cell_type": "markdown",
      "source": [
        "# __Métricas de rendimiento__\n",
        "- Luego de realizar la ejecución del programa principal.py, se decide validar el rendimiento que ofrece para este caso la solución propuesta para resolver el problema de posicionamiento espacial de un planeta en orbita tanto en el lenguaje de programación Python como también para Cython, para este se tuvo en cuenta una bateria de 20 experimientos para una misma carga, la cual a continuación será estudiada y analizada.  "
      ],
      "metadata": {
        "id": "JxWiPi_DsKmY"
      }
    },
    {
      "cell_type": "markdown",
      "source": [
        "## Carga de los resultados obtenidos luego de la ejecución"
      ],
      "metadata": {
        "id": "eJamhCoqtFc4"
      }
    },
    {
      "cell_type": "code",
      "source": [
        "df = pd.read_csv(\"/content/planeta.csv\")\n",
        "df"
      ],
      "metadata": {
        "colab": {
          "base_uri": "https://localhost:8080/"
        },
        "id": "XP--AmKZp0rC",
        "outputId": "c9d4ba9f-c0c5-498a-c4b1-5598a8d330b3"
      },
      "execution_count": null,
      "outputs": [
        {
          "output_type": "execute_result",
          "data": {
            "text/plain": [
              "         py       cy   veces_mejor \n",
              "0   1.75836  0.11013       15.96585\n",
              "1   1.75443  0.10851       16.16851\n",
              "2   1.74696  0.10904       16.02138\n",
              "3   1.78490  0.11470       15.56190\n",
              "4   1.76691  0.10841       16.29866\n",
              "5   1.74997  0.10863       16.10943\n",
              "6   1.75189  0.10885       16.09508\n",
              "7   1.75176  0.10840       16.16020\n",
              "8   1.77116  0.10846       16.33073\n",
              "9   1.75498  0.11001       15.95234\n",
              "10  1.75098  0.10891       16.07662\n",
              "11  1.75206  0.10840       16.16284\n",
              "12  1.75402  0.10840       16.18140\n",
              "13  1.76788  0.10841       16.30665\n",
              "14  1.75194  0.10840       16.16225\n",
              "15  1.75436  0.10993       15.95894\n",
              "16  1.75814  0.10992       15.99443\n",
              "17  1.75858  0.10841       16.22134\n",
              "18  1.76941  0.10845       16.31516\n",
              "19  1.75728  0.10991       15.98826"
            ],
            "text/html": [
              "\n",
              "  <div id=\"df-540f4b5f-a6f2-4b16-bd7f-f8c2c8e59a1a\">\n",
              "    <div class=\"colab-df-container\">\n",
              "      <div>\n",
              "<style scoped>\n",
              "    .dataframe tbody tr th:only-of-type {\n",
              "        vertical-align: middle;\n",
              "    }\n",
              "\n",
              "    .dataframe tbody tr th {\n",
              "        vertical-align: top;\n",
              "    }\n",
              "\n",
              "    .dataframe thead th {\n",
              "        text-align: right;\n",
              "    }\n",
              "</style>\n",
              "<table border=\"1\" class=\"dataframe\">\n",
              "  <thead>\n",
              "    <tr style=\"text-align: right;\">\n",
              "      <th></th>\n",
              "      <th>py</th>\n",
              "      <th>cy</th>\n",
              "      <th>veces_mejor</th>\n",
              "    </tr>\n",
              "  </thead>\n",
              "  <tbody>\n",
              "    <tr>\n",
              "      <th>0</th>\n",
              "      <td>1.75836</td>\n",
              "      <td>0.11013</td>\n",
              "      <td>15.96585</td>\n",
              "    </tr>\n",
              "    <tr>\n",
              "      <th>1</th>\n",
              "      <td>1.75443</td>\n",
              "      <td>0.10851</td>\n",
              "      <td>16.16851</td>\n",
              "    </tr>\n",
              "    <tr>\n",
              "      <th>2</th>\n",
              "      <td>1.74696</td>\n",
              "      <td>0.10904</td>\n",
              "      <td>16.02138</td>\n",
              "    </tr>\n",
              "    <tr>\n",
              "      <th>3</th>\n",
              "      <td>1.78490</td>\n",
              "      <td>0.11470</td>\n",
              "      <td>15.56190</td>\n",
              "    </tr>\n",
              "    <tr>\n",
              "      <th>4</th>\n",
              "      <td>1.76691</td>\n",
              "      <td>0.10841</td>\n",
              "      <td>16.29866</td>\n",
              "    </tr>\n",
              "    <tr>\n",
              "      <th>5</th>\n",
              "      <td>1.74997</td>\n",
              "      <td>0.10863</td>\n",
              "      <td>16.10943</td>\n",
              "    </tr>\n",
              "    <tr>\n",
              "      <th>6</th>\n",
              "      <td>1.75189</td>\n",
              "      <td>0.10885</td>\n",
              "      <td>16.09508</td>\n",
              "    </tr>\n",
              "    <tr>\n",
              "      <th>7</th>\n",
              "      <td>1.75176</td>\n",
              "      <td>0.10840</td>\n",
              "      <td>16.16020</td>\n",
              "    </tr>\n",
              "    <tr>\n",
              "      <th>8</th>\n",
              "      <td>1.77116</td>\n",
              "      <td>0.10846</td>\n",
              "      <td>16.33073</td>\n",
              "    </tr>\n",
              "    <tr>\n",
              "      <th>9</th>\n",
              "      <td>1.75498</td>\n",
              "      <td>0.11001</td>\n",
              "      <td>15.95234</td>\n",
              "    </tr>\n",
              "    <tr>\n",
              "      <th>10</th>\n",
              "      <td>1.75098</td>\n",
              "      <td>0.10891</td>\n",
              "      <td>16.07662</td>\n",
              "    </tr>\n",
              "    <tr>\n",
              "      <th>11</th>\n",
              "      <td>1.75206</td>\n",
              "      <td>0.10840</td>\n",
              "      <td>16.16284</td>\n",
              "    </tr>\n",
              "    <tr>\n",
              "      <th>12</th>\n",
              "      <td>1.75402</td>\n",
              "      <td>0.10840</td>\n",
              "      <td>16.18140</td>\n",
              "    </tr>\n",
              "    <tr>\n",
              "      <th>13</th>\n",
              "      <td>1.76788</td>\n",
              "      <td>0.10841</td>\n",
              "      <td>16.30665</td>\n",
              "    </tr>\n",
              "    <tr>\n",
              "      <th>14</th>\n",
              "      <td>1.75194</td>\n",
              "      <td>0.10840</td>\n",
              "      <td>16.16225</td>\n",
              "    </tr>\n",
              "    <tr>\n",
              "      <th>15</th>\n",
              "      <td>1.75436</td>\n",
              "      <td>0.10993</td>\n",
              "      <td>15.95894</td>\n",
              "    </tr>\n",
              "    <tr>\n",
              "      <th>16</th>\n",
              "      <td>1.75814</td>\n",
              "      <td>0.10992</td>\n",
              "      <td>15.99443</td>\n",
              "    </tr>\n",
              "    <tr>\n",
              "      <th>17</th>\n",
              "      <td>1.75858</td>\n",
              "      <td>0.10841</td>\n",
              "      <td>16.22134</td>\n",
              "    </tr>\n",
              "    <tr>\n",
              "      <th>18</th>\n",
              "      <td>1.76941</td>\n",
              "      <td>0.10845</td>\n",
              "      <td>16.31516</td>\n",
              "    </tr>\n",
              "    <tr>\n",
              "      <th>19</th>\n",
              "      <td>1.75728</td>\n",
              "      <td>0.10991</td>\n",
              "      <td>15.98826</td>\n",
              "    </tr>\n",
              "  </tbody>\n",
              "</table>\n",
              "</div>\n",
              "      <button class=\"colab-df-convert\" onclick=\"convertToInteractive('df-540f4b5f-a6f2-4b16-bd7f-f8c2c8e59a1a')\"\n",
              "              title=\"Convert this dataframe to an interactive table.\"\n",
              "              style=\"display:none;\">\n",
              "        \n",
              "  <svg xmlns=\"http://www.w3.org/2000/svg\" height=\"24px\"viewBox=\"0 0 24 24\"\n",
              "       width=\"24px\">\n",
              "    <path d=\"M0 0h24v24H0V0z\" fill=\"none\"/>\n",
              "    <path d=\"M18.56 5.44l.94 2.06.94-2.06 2.06-.94-2.06-.94-.94-2.06-.94 2.06-2.06.94zm-11 1L8.5 8.5l.94-2.06 2.06-.94-2.06-.94L8.5 2.5l-.94 2.06-2.06.94zm10 10l.94 2.06.94-2.06 2.06-.94-2.06-.94-.94-2.06-.94 2.06-2.06.94z\"/><path d=\"M17.41 7.96l-1.37-1.37c-.4-.4-.92-.59-1.43-.59-.52 0-1.04.2-1.43.59L10.3 9.45l-7.72 7.72c-.78.78-.78 2.05 0 2.83L4 21.41c.39.39.9.59 1.41.59.51 0 1.02-.2 1.41-.59l7.78-7.78 2.81-2.81c.8-.78.8-2.07 0-2.86zM5.41 20L4 18.59l7.72-7.72 1.47 1.35L5.41 20z\"/>\n",
              "  </svg>\n",
              "      </button>\n",
              "      \n",
              "  <style>\n",
              "    .colab-df-container {\n",
              "      display:flex;\n",
              "      flex-wrap:wrap;\n",
              "      gap: 12px;\n",
              "    }\n",
              "\n",
              "    .colab-df-convert {\n",
              "      background-color: #E8F0FE;\n",
              "      border: none;\n",
              "      border-radius: 50%;\n",
              "      cursor: pointer;\n",
              "      display: none;\n",
              "      fill: #1967D2;\n",
              "      height: 32px;\n",
              "      padding: 0 0 0 0;\n",
              "      width: 32px;\n",
              "    }\n",
              "\n",
              "    .colab-df-convert:hover {\n",
              "      background-color: #E2EBFA;\n",
              "      box-shadow: 0px 1px 2px rgba(60, 64, 67, 0.3), 0px 1px 3px 1px rgba(60, 64, 67, 0.15);\n",
              "      fill: #174EA6;\n",
              "    }\n",
              "\n",
              "    [theme=dark] .colab-df-convert {\n",
              "      background-color: #3B4455;\n",
              "      fill: #D2E3FC;\n",
              "    }\n",
              "\n",
              "    [theme=dark] .colab-df-convert:hover {\n",
              "      background-color: #434B5C;\n",
              "      box-shadow: 0px 1px 3px 1px rgba(0, 0, 0, 0.15);\n",
              "      filter: drop-shadow(0px 1px 2px rgba(0, 0, 0, 0.3));\n",
              "      fill: #FFFFFF;\n",
              "    }\n",
              "  </style>\n",
              "\n",
              "      <script>\n",
              "        const buttonEl =\n",
              "          document.querySelector('#df-540f4b5f-a6f2-4b16-bd7f-f8c2c8e59a1a button.colab-df-convert');\n",
              "        buttonEl.style.display =\n",
              "          google.colab.kernel.accessAllowed ? 'block' : 'none';\n",
              "\n",
              "        async function convertToInteractive(key) {\n",
              "          const element = document.querySelector('#df-540f4b5f-a6f2-4b16-bd7f-f8c2c8e59a1a');\n",
              "          const dataTable =\n",
              "            await google.colab.kernel.invokeFunction('convertToInteractive',\n",
              "                                                     [key], {});\n",
              "          if (!dataTable) return;\n",
              "\n",
              "          const docLinkHtml = 'Like what you see? Visit the ' +\n",
              "            '<a target=\"_blank\" href=https://colab.research.google.com/notebooks/data_table.ipynb>data table notebook</a>'\n",
              "            + ' to learn more about interactive tables.';\n",
              "          element.innerHTML = '';\n",
              "          dataTable['output_type'] = 'display_data';\n",
              "          await google.colab.output.renderOutput(dataTable, element);\n",
              "          const docLink = document.createElement('div');\n",
              "          docLink.innerHTML = docLinkHtml;\n",
              "          element.appendChild(docLink);\n",
              "        }\n",
              "      </script>\n",
              "    </div>\n",
              "  </div>\n",
              "  "
            ]
          },
          "metadata": {},
          "execution_count": 3
        }
      ]
    },
    {
      "cell_type": "markdown",
      "source": [
        "## Análisis de los promedios obtenidos para cada lengunaje de programación"
      ],
      "metadata": {
        "id": "s6ite3ATtMuW"
      }
    },
    {
      "cell_type": "code",
      "source": [
        "py_mean = df['py'].mean()\n",
        "print(\"Promedio de resultados de python: \", py_mean)"
      ],
      "metadata": {
        "colab": {
          "base_uri": "https://localhost:8080/"
        },
        "id": "cXBCTH6Zr4B3",
        "outputId": "206c794a-969a-4ba2-c825-291f7652e26c"
      },
      "execution_count": null,
      "outputs": [
        {
          "output_type": "stream",
          "name": "stdout",
          "text": [
            "Promedio de resultados de python:  1.7582985\n"
          ]
        }
      ]
    },
    {
      "cell_type": "code",
      "source": [
        "cy_mean = df[' cy'].mean()\n",
        "print(\"Promedio de resultados de cython: \", cy_mean)"
      ],
      "metadata": {
        "colab": {
          "base_uri": "https://localhost:8080/"
        },
        "id": "CBhbEuxbtoAG",
        "outputId": "59d33d1d-72e9-4d1c-d7fe-a9dce4f53ebd"
      },
      "execution_count": null,
      "outputs": [
        {
          "output_type": "stream",
          "name": "stdout",
          "text": [
            "Promedio de resultados de cython:  0.109214\n"
          ]
        }
      ]
    },
    {
      "cell_type": "markdown",
      "source": [
        "- La tercera columna del dataframe importado, contine el valor del numero de veces que cython fue más eficiente que el mismo problema atendido por python, a continuación observará el valor promedio de veces que cython fue más rápido que python"
      ],
      "metadata": {
        "id": "DGF77dz7t4pl"
      }
    },
    {
      "cell_type": "code",
      "source": [
        "times_better = df[' veces_mejor '].mean()\n",
        "print(\"Promedio de veces más rapido cython que python: {:.2f}\".format(times_better))"
      ],
      "metadata": {
        "colab": {
          "base_uri": "https://localhost:8080/"
        },
        "id": "NEzvCpx7t3RF",
        "outputId": "1a659f57-1f50-4354-a1f4-b6a78277a7bd"
      },
      "execution_count": null,
      "outputs": [
        {
          "output_type": "stream",
          "name": "stdout",
          "text": [
            "Promedio de veces más rapido cython que python: 16.10\n"
          ]
        }
      ]
    },
    {
      "cell_type": "markdown",
      "source": [
        "## Comparación de los datos promedio mediante un diagrama de barras\n"
      ],
      "metadata": {
        "id": "jsXj28x0vGrI"
      }
    },
    {
      "cell_type": "code",
      "source": [
        "X_axis = np.arange(len(df.columns) - 1)\n",
        "\n",
        "plt.figure(figsize = [6, 6])\n",
        "plt.bar(X_axis - 0.02, df[['py', ' cy']].mean(), 0.4, alpha=0.8)\n",
        "plt.ylabel('$mean$')\n",
        "plt.title('Execute time Comparison')\n",
        "plt.grid()\n",
        "plt.xticks(X_axis, ['py', 'cy'])\n",
        "plt.xlabel(\"Language\")\n",
        "\n",
        "def addlabels(x, y, val):\n",
        "    for i in range(len(x)):\n",
        "        plt.text(i, y[i] + 0.01, round(y[i],3), ha = 'center')\n",
        "\n",
        "addlabels(['py', 'cy'], df[['py', ' cy']].mean(), + 0.2)\n",
        "plt.show()"
      ],
      "metadata": {
        "colab": {
          "base_uri": "https://localhost:8080/",
          "height": 404
        },
        "id": "SuyZ0w1QvSQV",
        "outputId": "60151d5f-d5ea-461d-8276-e3f221dee224"
      },
      "execution_count": null,
      "outputs": [
        {
          "output_type": "display_data",
          "data": {
            "text/plain": [
              "<Figure size 432x432 with 1 Axes>"
            ],
            "image/png": "[encoded data removed]"
          },
          "metadata": {
            "needs_background": "light"
          }
        }
      ]
    },
    {
      "cell_type": "markdown",
      "source": [
        "## Comparación de cada ejecución de python respecto a cython"
      ],
      "metadata": {
        "id": "e2R-DyCqzVYX"
      }
    },
    {
      "cell_type": "code",
      "source": [
        "X_axis = np.arange(20)\n",
        "\n",
        "plt.figure(figsize = [15,6])\n",
        "plt.bar(X_axis - 0.02, df['py'], 0.4, label = 'python', alpha=0.8)\n",
        "plt.bar(X_axis - 0.02, df[' cy'], 0.4, label = 'cython', alpha=0.8)\n",
        "plt.ylabel('$time$')\n",
        "plt.title('Execute time Comparison')\n",
        "plt.xticks(X_axis)\n",
        "plt.xlabel(\"Language\")\n",
        "plt.legend()\n",
        "plt.grid()\n",
        "plt.show()"
      ],
      "metadata": {
        "colab": {
          "base_uri": "https://localhost:8080/",
          "height": 404
        },
        "id": "TJ5HJIVW0OB2",
        "outputId": "cb5bc128-495e-4f0d-8e12-683ac2fff90d"
      },
      "execution_count": null,
      "outputs": [
        {
          "output_type": "display_data",
          "data": {
            "text/plain": [
              "<Figure size 1080x432 with 1 Axes>"
            ],
            "image/png": "[encoded data removed]"
          },
          "metadata": {
            "needs_background": "light"
          }
        }
      ]
    },
    {
      "cell_type": "markdown",
      "source": [
        "## Grafica del comportamiento del rendimiento individual "
      ],
      "metadata": {
        "id": "yQ1LnyMD6ux4"
      }
    },
    {
      "cell_type": "code",
      "source": [
        "plt.figure(figsize=(21, 6))\n",
        "\n",
        "plt.subplot(1, 3, 1)\n",
        "plt.plot(df['py'], color='blue', label='Python')\n",
        "plt.legend()\n",
        "plt.xlabel('Time')\n",
        "plt.xlabel('Experiment')\n",
        "plt.grid()\n",
        "plt.title('Python Execution Time')\n",
        "\n",
        "\n",
        "plt.subplot(1, 3, 2)\n",
        "plt.plot(df[' cy'], color='orange', label='Cython')\n",
        "plt.legend()\n",
        "plt.xlabel('Time')\n",
        "plt.xlabel('Experiment')\n",
        "plt.grid()\n",
        "plt.title('Cython Execution Time')\n",
        "\n",
        "plt.subplot(1, 3, 3)\n",
        "plt.plot(df['py'], color='blue', label='Python')\n",
        "plt.plot(df[' cy'], color='orange', label='Cython')\n",
        "plt.legend()\n",
        "plt.xlabel('Time')\n",
        "plt.xlabel('Experiment')\n",
        "plt.grid()\n",
        "plt.title('Python Vs Cython Execution Time')\n",
        "\n",
        "plt.show()"
      ],
      "metadata": {
        "colab": {
          "base_uri": "https://localhost:8080/",
          "height": 404
        },
        "id": "TVTctcsD6zGl",
        "outputId": "32e816a5-2ac3-4bea-9776-12586365edff"
      },
      "execution_count": null,
      "outputs": [
        {
          "output_type": "display_data",
          "data": {
            "text/plain": [
              "<Figure size 1512x432 with 3 Axes>"
            ],
            "image/png": "[encoded data removed]"
          },
          "metadata": {
            "needs_background": "light"
          }
        }
      ]
    },
    {
      "cell_type": "markdown",
      "source": [
        "# __Conclusiones__"
      ],
      "metadata": {
        "id": "-r5vsxn85EuR"
      }
    },
    {
      "cell_type": "markdown",
      "source": [
        "- Inicialmente, se logra demostrar la superioridad de Cython con respecto de Python ya que los resultados terminan por mostrar en cada uno la eficiencia en la ejecución del programa elaborado en este lenguaje de programación.\n",
        "- Para complementar la conclusión anterior y haciendo énfasis a la estructura de los lenguajes de programación utilizados, se comprueba que cython al trabajar bajo los criterios de programación de C y C++ y siendo compilado a código de estos últimos, posee una amplia accesibilidad a los componentes directos del Hardware lo que en términos de eficiencia significa una gran mejora contra el lenguaje interpretado.\n",
        "- Otro factor a contemplar son los factores externos que terminan afectando o corrompiendo los tiempos obtenidos, factores como aplicaciones ejecutándose en segundo plano u otros programas que estén consumiendo recursos\n",
        "- Se puede adicionar a estas conclusiones que python pese a se sintaxis sencilla al ser un lenguaje de alto nivel requiere de más tiempo únicamente interpretando su linea de codigo, pero por su lago Cython al poseer las características de un lenguaje de bajo nivel termina siendo mucho más rápido compilando su código.\n",
        "- Por último, con este experimento se afianza el porte de los programas escritos en C ya que su rápida accesibilidad al Hardware traduce sus métodos en ganancia de rendimiento, el cual se puede mejorar aún más implementando estrategias de paralelismo con bibliotecas como OMP para próximos experimentos.\n"
      ],
      "metadata": {
        "id": "NUXQuul35K51"
      }
    }
  ]
}